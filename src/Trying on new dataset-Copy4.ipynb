{
 "cells": [
  {
   "cell_type": "code",
   "execution_count": 4,
   "metadata": {},
   "outputs": [
    {
     "name": "stderr",
     "output_type": "stream",
     "text": [
      "Using TensorFlow backend.\n"
     ]
    }
   ],
   "source": [
    "import numpy as np\n",
    "from numpy import *\n",
    "import pandas as pd\n",
    "from keras.callbacks import EarlyStopping\n",
    "from keras.callbacks import TensorBoard\n",
    "from keras.layers import Dense, Activation, Flatten, Dropout\n",
    "from keras.layers import MaxPooling2D\n",
    "from keras.layers.convolutional import Conv2D\n",
    "from keras.models import Sequential\n",
    "from keras.utils import np_utils\n",
    "from keras.utils import multi_gpu_model\n",
    "from sklearn.metrics import precision_score, recall_score, f1_score\n",
    "from sklearn.model_selection import train_test_split\n",
    "from sklearn.preprocessing import LabelEncoder\n"
   ]
  },
  {
   "cell_type": "code",
   "execution_count": 5,
   "metadata": {},
   "outputs": [],
   "source": [
    "def split_data(X, y, test_data_size):\n",
    "    return train_test_split(X, y, test_size=test_data_size, random_state=42)\n",
    "\n",
    "\n",
    "def reshape_data(arr, img_rows, img_cols, channels):\n",
    "    return arr.reshape(arr.shape[0], img_rows, img_cols, channels)\n",
    "\n",
    "def cnn_model(X_train, y_train, kernel_size, nb_filters, channels, nb_epoch, batch_size, nb_classes, nb_gpus):\n",
    "    model = Sequential()\n",
    "\n",
    "    model.add(Conv2D(nb_filters, (kernel_size[0], kernel_size[1]),\n",
    "                     padding='valid',\n",
    "                     strides=1,\n",
    "                     input_shape=(img_rows, img_cols, channels)))\n",
    "    model.add(Activation('relu'))\n",
    "\n",
    "    model.add(Conv2D(nb_filters, (kernel_size[0], kernel_size[1])))\n",
    "    model.add(Activation('relu'))\n",
    "\n",
    "    model.add(Conv2D(nb_filters, (kernel_size[0], kernel_size[1])))\n",
    "    model.add(Activation('relu'))\n",
    "\n",
    "    model.add(MaxPooling2D(pool_size=(2, 2)))\n",
    "\n",
    "    nb_filters = 64\n",
    "    kernel_size = (4, 4)\n",
    "\n",
    "    model.add(Conv2D(nb_filters, (kernel_size[0], kernel_size[1])))\n",
    "    model.add(Activation('relu'))\n",
    "\n",
    "    model.add(Conv2D(nb_filters, (kernel_size[0], kernel_size[1])))\n",
    "    model.add(Activation('relu'))\n",
    "\n",
    "    # model.add(Conv2D(nb_filters, (kernel_size[0], kernel_size[1])))\n",
    "    # model.add(Activation('relu'))\n",
    "\n",
    "    model.add(MaxPooling2D(pool_size=(2, 2)))\n",
    "\n",
    "    nb_filters = 128\n",
    "    kernel_size = (8, 8)\n",
    "\n",
    "    model.add(Conv2D(nb_filters, (kernel_size[0], kernel_size[1])))\n",
    "    model.add(Activation('relu'))\n",
    "\n",
    "    model.add(Conv2D(nb_filters, (kernel_size[0], kernel_size[1])))\n",
    "    model.add(Activation('relu'))\n",
    "\n",
    "    # model.add(Conv2D(nb_filters, (kernel_size[0], kernel_size[1])))\n",
    "    # model.add(Activation('relu'))\n",
    "\n",
    "    model.add(MaxPooling2D(pool_size=(12, 12)))\n",
    "\n",
    "    model.add(Flatten())\n",
    "    print(\"Model flattened out to: \", model.output_shape)\n",
    "\n",
    "    model.add(Dense(4096))\n",
    "    model.add(Activation('relu'))\n",
    "    model.add(Dropout(0.2))\n",
    "\n",
    "    model.add(Dense(4096))\n",
    "    model.add(Activation(\"relu\"))\n",
    "    model.add(Dropout(0.2))\n",
    "\n",
    "    model.add(Dense(nb_classes))\n",
    "    model.add(Activation('softmax'))\n",
    "\n",
    "    #model = multi_gpu_model(model, gpus=nb_gpus)\n",
    "    model.compile(loss='categorical_crossentropy',\n",
    "                  optimizer='adam',\n",
    "                  metrics=['accuracy'])\n",
    "\n",
    "    print(model.summary())\n",
    "\n",
    "    stop = EarlyStopping(monitor='acc',\n",
    "                         min_delta=0.001,\n",
    "                         patience=2,\n",
    "                         verbose=0,\n",
    "                         mode='auto')\n",
    "\n",
    "    #tensor_board = TensorBoard(log_dir='./Graph', histogram_freq=0, write_graph=True, write_images=True)\n",
    "\n",
    "    model.fit(X_train, y_train, batch_size=batch_size, epochs=nb_epoch,\n",
    "              verbose=1,\n",
    "              validation_split=0.2,\n",
    "              class_weight='auto',\n",
    "              #callbacks=[stop, tensor_board]\n",
    "              )\n",
    "    return model"
   ]
  },
  {
   "cell_type": "code",
   "execution_count": 3,
   "metadata": {},
   "outputs": [
    {
     "ename": "NameError",
     "evalue": "name 'pd' is not defined",
     "output_type": "error",
     "traceback": [
      "\u001b[1;31m---------------------------------------------------------------------------\u001b[0m",
      "\u001b[1;31mNameError\u001b[0m                                 Traceback (most recent call last)",
      "\u001b[1;32m<ipython-input-3-902a926f56a6>\u001b[0m in \u001b[0;36m<module>\u001b[1;34m\u001b[0m\n\u001b[0;32m     11\u001b[0m \u001b[1;33m\u001b[0m\u001b[0m\n\u001b[0;32m     12\u001b[0m     \u001b[1;31m# Import data\u001b[0m\u001b[1;33m\u001b[0m\u001b[1;33m\u001b[0m\u001b[1;33m\u001b[0m\u001b[0m\n\u001b[1;32m---> 13\u001b[1;33m     \u001b[0mlabels\u001b[0m \u001b[1;33m=\u001b[0m \u001b[0mpd\u001b[0m\u001b[1;33m.\u001b[0m\u001b[0mread_csv\u001b[0m\u001b[1;33m(\u001b[0m\u001b[1;34m\"../3kdata.csv\"\u001b[0m\u001b[1;33m)\u001b[0m\u001b[1;33m\u001b[0m\u001b[1;33m\u001b[0m\u001b[0m\n\u001b[0m\u001b[0;32m     14\u001b[0m     \u001b[0mprint\u001b[0m\u001b[1;33m(\u001b[0m\u001b[0mlabels\u001b[0m\u001b[1;33m.\u001b[0m\u001b[0mvalues\u001b[0m\u001b[1;33m)\u001b[0m\u001b[1;33m\u001b[0m\u001b[1;33m\u001b[0m\u001b[0m\n\u001b[0;32m     15\u001b[0m \u001b[1;33m\u001b[0m\u001b[0m\n",
      "\u001b[1;31mNameError\u001b[0m: name 'pd' is not defined"
     ]
    }
   ],
   "source": [
    "if __name__ == '__main__':\n",
    "\n",
    "    batch_size = 100\n",
    "    nb_classes = 189\n",
    "    nb_epoch = 10\n",
    "    nb_gpus = 8\n",
    "    img_rows, img_cols = 512, 512\n",
    "    channels = 1\n",
    "    nb_filters = 32\n",
    "    kernel_size = (2, 2)\n",
    "\n",
    "    # Import data\n",
    "    labels = pd.read_csv(\"../3kdata.csv\")\n",
    "    print(labels.values)\n",
    "    \n",
    "    X = np.load(\"X_sample.npy\")\n",
    "    #X = genfromtxt('../new_data1.csv', delimiter=',')\n",
    "\n",
    "    y = labels.FindingLabels\n",
    "    # y = np.array(pd.get_dummies(y))\n",
    "    label_encoder = LabelEncoder()\n",
    "    y = label_encoder.fit_transform(y)\n",
    "    y = y.reshape(-1, 1)\n",
    "\n",
    "    a=y;\n",
    "    print(a)\n",
    "    print(\"Splitting data into test/ train datasets\")\n",
    "    X_train, X_test, y_train, y_test = train_test_split(X, y, test_size=0.2)\n",
    "\n",
    "    print(\"Reshaping Data\")\n",
    "    X_train = X_train.reshape(X_train.shape[0], img_rows, img_cols, channels)\n",
    "    X_test = X_test.reshape(X_test.shape[0], img_rows, img_cols, channels)\n",
    "\n",
    "    print(\"X_train Shape: \", X_train.shape)\n",
    "    print(\"X_test Shape: \", X_test.shape)\n",
    "\n",
    "    input_shape = (img_rows, img_cols, channels)\n",
    "\n",
    "    print(\"Normalizing Data\")\n",
    "    X_train = X_train.astype('float32')\n",
    "    X_test = X_test.astype('float32')\n",
    "\n",
    "    X_train /= 255.0\n",
    "    X_test /= 255.0\n",
    "\n",
    "    y_train = np_utils.to_categorical(y_train, nb_classes)\n",
    "    y_test = np_utils.to_categorical(y_test, nb_classes)\n",
    "    print(\"y_train Shape: \", y_train.shape)\n",
    "    print(\"y_test Shape: \", y_test.shape)\n",
    "\n",
    "\n",
    "    model = cnn_model(X_train, y_train, kernel_size, nb_filters, channels, nb_epoch, batch_size, nb_classes, nb_gpus)\n",
    "    \n",
    "    print(\"Training Acc : \")\n",
    "    score = model.evaluate(X_train, y_train, verbose=0)\n",
    "    print(\"%s: %.2f%%\" % (model.metrics_names[1], score[1]*100))\n",
    "    print(\"Testing Acc : \")\n",
    "    score = model.evaluate(X_test, y_test, verbose=0)\n",
    "    print(\"%s: %.2f%%\" % (model.metrics_names[1], score[1]*100))\n",
    "   "
   ]
  },
  {
   "cell_type": "code",
   "execution_count": 19,
   "metadata": {},
   "outputs": [
    {
     "name": "stdout",
     "output_type": "stream",
     "text": [
      "188\n"
     ]
    }
   ],
   "source": [
    "print(a.max())"
   ]
  },
  {
   "cell_type": "code",
   "execution_count": null,
   "metadata": {},
   "outputs": [],
   "source": []
  },
  {
   "cell_type": "code",
   "execution_count": 6,
   "metadata": {},
   "outputs": [],
   "source": [
    "model.save(\"DiseasePredictorModel.tfl\")"
   ]
  },
  {
   "cell_type": "code",
   "execution_count": 9,
   "metadata": {},
   "outputs": [
    {
     "name": "stdout",
     "output_type": "stream",
     "text": [
      "Model: \"sequential_1\"\n",
      "_________________________________________________________________\n",
      "Layer (type)                 Output Shape              Param #   \n",
      "=================================================================\n",
      "conv2d_1 (Conv2D)            (None, 511, 511, 32)      160       \n",
      "_________________________________________________________________\n",
      "activation_1 (Activation)    (None, 511, 511, 32)      0         \n",
      "_________________________________________________________________\n",
      "conv2d_2 (Conv2D)            (None, 510, 510, 32)      4128      \n",
      "_________________________________________________________________\n",
      "activation_2 (Activation)    (None, 510, 510, 32)      0         \n",
      "_________________________________________________________________\n",
      "conv2d_3 (Conv2D)            (None, 509, 509, 32)      4128      \n",
      "_________________________________________________________________\n",
      "activation_3 (Activation)    (None, 509, 509, 32)      0         \n",
      "_________________________________________________________________\n",
      "max_pooling2d_1 (MaxPooling2 (None, 254, 254, 32)      0         \n",
      "_________________________________________________________________\n",
      "conv2d_4 (Conv2D)            (None, 251, 251, 64)      32832     \n",
      "_________________________________________________________________\n",
      "activation_4 (Activation)    (None, 251, 251, 64)      0         \n",
      "_________________________________________________________________\n",
      "conv2d_5 (Conv2D)            (None, 248, 248, 64)      65600     \n",
      "_________________________________________________________________\n",
      "activation_5 (Activation)    (None, 248, 248, 64)      0         \n",
      "_________________________________________________________________\n",
      "max_pooling2d_2 (MaxPooling2 (None, 124, 124, 64)      0         \n",
      "_________________________________________________________________\n",
      "conv2d_6 (Conv2D)            (None, 117, 117, 128)     524416    \n",
      "_________________________________________________________________\n",
      "activation_6 (Activation)    (None, 117, 117, 128)     0         \n",
      "_________________________________________________________________\n",
      "conv2d_7 (Conv2D)            (None, 110, 110, 128)     1048704   \n",
      "_________________________________________________________________\n",
      "activation_7 (Activation)    (None, 110, 110, 128)     0         \n",
      "_________________________________________________________________\n",
      "max_pooling2d_3 (MaxPooling2 (None, 9, 9, 128)         0         \n",
      "_________________________________________________________________\n",
      "flatten_1 (Flatten)          (None, 10368)             0         \n",
      "_________________________________________________________________\n",
      "dense_1 (Dense)              (None, 4096)              42471424  \n",
      "_________________________________________________________________\n",
      "activation_8 (Activation)    (None, 4096)              0         \n",
      "_________________________________________________________________\n",
      "dropout_1 (Dropout)          (None, 4096)              0         \n",
      "_________________________________________________________________\n",
      "dense_2 (Dense)              (None, 4096)              16781312  \n",
      "_________________________________________________________________\n",
      "activation_9 (Activation)    (None, 4096)              0         \n",
      "_________________________________________________________________\n",
      "dropout_2 (Dropout)          (None, 4096)              0         \n",
      "_________________________________________________________________\n",
      "dense_3 (Dense)              (None, 15)                61455     \n",
      "_________________________________________________________________\n",
      "activation_10 (Activation)   (None, 15)                0         \n",
      "=================================================================\n",
      "Total params: 60,994,159\n",
      "Trainable params: 60,994,159\n",
      "Non-trainable params: 0\n",
      "_________________________________________________________________\n",
      "Testing Acc : \n",
      "accuracy: 0.00%\n"
     ]
    }
   ],
   "source": [
    "from keras.models import load_model\n",
    "model=load_model('DiseasePredictorModel.tfl')\n",
    "model.summary()\n",
    "print(\"Testing Acc : \")\n",
    "score = model.evaluate(X_test, y_test, verbose=0)\n",
    "print(\"%s: %.2f%%\" % (model.metrics_names[1], score[1]*100))"
   ]
  },
  {
   "cell_type": "code",
   "execution_count": 20,
   "metadata": {},
   "outputs": [
    {
     "name": "stdout",
     "output_type": "stream",
     "text": [
      "         ImageIndex             FindingLabels  Follow-up  PatientID  \\\n",
      "0  00018387_035.png     Effusion|Infiltration         35      18387   \n",
      "1  00018387_036.png              Infiltration         36      18387   \n",
      "2  00018387_037.png                No Finding         37      18387   \n",
      "3  00018388_000.png  Atelectasis|Infiltration          0      18388   \n",
      "4  00018388_001.png                No Finding          1      18388   \n",
      "\n",
      "   PatientAge PatientGender ViewPosition  OriginalImage[Width  Height]  \\\n",
      "0          59             M           PA                 2992     2991   \n",
      "1          59             M           PA                 3056     2516   \n",
      "2          59             M           PA                 2992     2991   \n",
      "3          76             M           PA                 2992     2991   \n",
      "4          77             M           PA                 2992     2991   \n",
      "\n",
      "   OriginalImagePixelSpacing[x     y]  \n",
      "0                        0.143  0.143  \n",
      "1                        0.139  0.139  \n",
      "2                        0.143  0.143  \n",
      "3                        0.143  0.143  \n",
      "4                        0.143  0.143  \n"
     ]
    }
   ],
   "source": [
    "print(labels)"
   ]
  },
  {
   "cell_type": "code",
   "execution_count": 21,
   "metadata": {},
   "outputs": [
    {
     "name": "stdout",
     "output_type": "stream",
     "text": [
      "[[1]\n",
      " [2]\n",
      " [3]\n",
      " [0]\n",
      " [3]]\n"
     ]
    }
   ],
   "source": [
    "print(y)"
   ]
  },
  {
   "cell_type": "code",
   "execution_count": 6,
   "metadata": {
    "scrolled": true
   },
   "outputs": [
    {
     "name": "stdout",
     "output_type": "stream",
     "text": [
      "Writing Train Array\n",
      "Saving Train Array\n",
      "Seconds:  68 2\n"
     ]
    }
   ],
   "source": [
    "import time\n",
    "\n",
    "import cv2\n",
    "import numpy as np\n",
    "import pandas as pd\n",
    "\n",
    "\n",
    "def convert_images_to_arrays(file_path, df):\n",
    "    lst_imgs = [l for l in df['ImageIndex']]\n",
    "\n",
    "    return np.array([np.array(cv2.resize(cv2.imread(file_path + img, cv2.IMREAD_GRAYSCALE),(512,512))) for img in lst_imgs])\n",
    "\n",
    "\n",
    "def save_to_array(arr_name, arr_object):\n",
    "    return np.save(arr_name, arr_object)\n",
    "\n",
    "\n",
    "if __name__ == '__main__':\n",
    "    start_time = time.time()\n",
    "\n",
    "    labels = pd.read_csv(\"../3kdata.csv\")\n",
    "\n",
    "    print(\"Writing Train Array\")\n",
    "    X_train = convert_images_to_arrays('3kdata/', labels)\n",
    "\n",
    "    #print(labels)\n",
    "    #print(X_train.shape)\n",
    "\n",
    "    print(\"Saving Train Array\")\n",
    "    save_to_array('X_sample.npy', X_train)\n",
    "\n",
    "    print(\"Seconds: \", round(time.time() - start_time), 2)"
   ]
  },
  {
   "cell_type": "code",
   "execution_count": null,
   "metadata": {},
   "outputs": [],
   "source": []
  }
 ],
 "metadata": {
  "kernelspec": {
   "display_name": "Python 3",
   "language": "python",
   "name": "python3"
  },
  "language_info": {
   "codemirror_mode": {
    "name": "ipython",
    "version": 3
   },
   "file_extension": ".py",
   "mimetype": "text/x-python",
   "name": "python",
   "nbconvert_exporter": "python",
   "pygments_lexer": "ipython3",
   "version": "3.7.4"
  }
 },
 "nbformat": 4,
 "nbformat_minor": 2
}
